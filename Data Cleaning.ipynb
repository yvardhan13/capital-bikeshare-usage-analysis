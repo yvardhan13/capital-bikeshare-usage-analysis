{
 "cells": [
  {
   "cell_type": "code",
   "execution_count": 6,
   "metadata": {
    "collapsed": true
   },
   "outputs": [],
   "source": [
    "import pandas as pd\n",
    "import re"
   ]
  },
  {
   "cell_type": "code",
   "execution_count": 7,
   "metadata": {
    "collapsed": true
   },
   "outputs": [],
   "source": [
    "Q42010=pd.read_csv(\"C:/Users/Yasho Vardhan/Desktop/Capital Bike Share data/2010-Q4-cabi-trip-history-data.csv\")\n",
    "Q12011=pd.read_csv(\"C:/Users/Yasho Vardhan/Desktop/Capital Bike Share data/2011-Q1-cabi-trip-history-data.csv\")\n",
    "Q22011=pd.read_csv(\"C:/Users/Yasho Vardhan/Desktop/Capital Bike Share data/2011-Q2-cabi-trip-history-data.csv\")\n",
    "Q32011=pd.read_csv(\"C:/Users/Yasho Vardhan/Desktop/Capital Bike Share data/2011-Q3-cabi-trip-history-data.csv\")\n",
    "Q42011=pd.read_csv(\"C:/Users/Yasho Vardhan/Desktop/Capital Bike Share data/2011-Q4-cabi-trip-history-data.csv\")"
   ]
  },
  {
   "cell_type": "code",
   "execution_count": 3,
   "metadata": {
    "collapsed": true
   },
   "outputs": [],
   "source": [
    "for index, duration in enumerate(Q42010.Duration) :\n",
    "    Q42010.Duration[index]=int(duration.partition(\"h\")[0])*3600000+int(duration.partition('h')[-1].rpartition('min.')[0])*60000+int(duration.partition('min.')[-1].rpartition('sec.')[0])*1000;\n",
    "    Q42010['Start station'][index]=re.sub(' \\(.*','',Q42010['Start station'][index])\n",
    "    Q42010['End station'][index]=re.sub(' \\(.*','',str(Q42010['End station'][index]))\n",
    "    \n",
    "for index, duration in enumerate(Q12011.Duration) :\n",
    "    Q12011.Duration[index]=int(duration.partition(\"h\")[0])*3600000+int(duration.partition('h')[-1].rpartition('min.')[0])*60000+int(duration.partition('min.')[-1].rpartition('sec.')[0])*1000;\n",
    "    Q12011['Start station'][index]=re.sub(' \\(.*','',Q12011['Start station'][index])\n",
    "    Q12011['End station'][index]=re.sub(' \\(.*','',str(Q12011['End station'][index]))\n",
    "    \n",
    "for index, duration in enumerate(Q22011.Duration) :\n",
    "    Q22011.Duration[index]=int(duration.partition(\"h\")[0])*3600000+int(duration.partition('h')[-1].rpartition('min.')[0])*60000+int(duration.partition('min.')[-1].rpartition('sec.')[0])*1000;\n",
    "    Q22011['Start station'][index]=re.sub(' \\(.*','',Q22011['Start station'][index])\n",
    "    Q22011['End station'][index]=re.sub(' \\(.*','',str(Q22011['End station'][index]))\n",
    "    \n",
    "for index, duration in enumerate(Q32011.Duration) :\n",
    "    Q32011.Duration[index]=int(duration.partition(\"h\")[0])*3600000+int(duration.partition('h')[-1].rpartition('min.')[0])*60000+int(duration.partition('min.')[-1].rpartition('sec.')[0])*1000;\n",
    "    Q32011['Start station'][index]=re.sub(' \\(.*','',Q32011['Start station'][index])\n",
    "    Q32011['End station'][index]=re.sub(' \\(.*','',str(Q32011['End station'][index]))\n",
    "    \n",
    "for index, duration in enumerate(Q42011.Duration) :\n",
    "    Q42011.Duration[index]=int(duration.partition(\"h\")[0])*3600000+int(duration.partition('h')[-1].rpartition('min.')[0])*60000+int(duration.partition('min.')[-1].rpartition('sec.')[0])*1000;\n",
    "    Q42011['Start station'][index]=re.sub(' \\(.*','',Q42011['Start station'][index])\n",
    "    Q42011['End station'][index]=re.sub(' \\(.*','',str(Q42011['End station'][index]))"
   ]
  },
  {
   "cell_type": "code",
   "execution_count": 4,
   "metadata": {
    "collapsed": true
   },
   "outputs": [],
   "source": [
    "Q42010.to_csv(\"C:/Users/Yasho Vardhan/Desktop/Capital Bike Share data/2010-Q4-cabi-trip-history-data-clean.csv\")\n",
    "Q12011.to_csv(\"C:/Users/Yasho Vardhan/Desktop/Capital Bike Share data/2011-Q1-cabi-trip-history-data-clean.csv\")\n",
    "Q22011.to_csv(\"C:/Users/Yasho Vardhan/Desktop/Capital Bike Share data/2011-Q2-cabi-trip-history-data-clean.csv\")\n",
    "Q32011.to_csv(\"C:/Users/Yasho Vardhan/Desktop/Capital Bike Share data/2011-Q3-cabi-trip-history-data-clean.csv\")\n",
    "Q42011.to_csv(\"C:/Users/Yasho Vardhan/Desktop/Capital Bike Share data/2011-Q4-cabi-trip-history-data-clean.csv\")"
   ]
  },
  {
   "cell_type": "code",
   "execution_count": 5,
   "metadata": {
    "collapsed": true
   },
   "outputs": [],
   "source": [
    "Q12012=pd.read_csv(\"C:/Users/Yasho Vardhan/Desktop/Capital Bike Share data/2012-Q1-cabi-trip-history-data.csv\")"
   ]
  },
  {
   "cell_type": "code",
   "execution_count": 6,
   "metadata": {
    "collapsed": true
   },
   "outputs": [],
   "source": [
    "for index, duration in enumerate(Q12012.Duration) :\n",
    "    Q12012.Duration[index]=int(duration.partition(\"h\")[0])*3600000+int(duration.partition('h')[-1].rpartition('m')[0])*60000+int(duration.partition('m')[-1].rpartition('sec.')[0])*1000;"
   ]
  },
  {
   "cell_type": "code",
   "execution_count": 7,
   "metadata": {
    "collapsed": true
   },
   "outputs": [],
   "source": [
    "Q12012.to_csv(\"C:/Users/Yasho Vardhan/Desktop/Capital Bike Share data/2012-Q1-cabi-trip-history-data-clean.csv\")"
   ]
  },
  {
   "cell_type": "code",
   "execution_count": 8,
   "metadata": {
    "collapsed": true
   },
   "outputs": [],
   "source": [
    "Q22012=pd.read_csv(\"C:/Users/Yasho Vardhan/Desktop/Capital Bike Share data/2012-Q2-cabi-trip-history-data.csv\")\n",
    "Q32012=pd.read_csv(\"C:/Users/Yasho Vardhan/Desktop/Capital Bike Share data/2012-Q3-cabi-trip-history-data.csv\")\n",
    "Q42012=pd.read_csv(\"C:/Users/Yasho Vardhan/Desktop/Capital Bike Share data/2012-Q4-cabi-trip-history-data.csv\")\n",
    "Q12013=pd.read_csv(\"C:/Users/Yasho Vardhan/Desktop/Capital Bike Share data/2013-Q1-cabi-trip-history-data.csv\")\n",
    "Q22013=pd.read_csv(\"C:/Users/Yasho Vardhan/Desktop/Capital Bike Share data/2013-Q2-cabi-trip-history-data.csv\")\n",
    "Q32013=pd.read_csv(\"C:/Users/Yasho Vardhan/Desktop/Capital Bike Share data/2013-Q3-cabi-trip-history-data.csv\")\n",
    "Q42013=pd.read_csv(\"C:/Users/Yasho Vardhan/Desktop/Capital Bike Share data/2013-Q4-cabi-trip-history-data.csv\")\n",
    "Q12014=pd.read_csv(\"C:/Users/Yasho Vardhan/Desktop/Capital Bike Share data/2014-Q1-cabi-trip-history-data.csv\")\n",
    "Q22014=pd.read_csv(\"C:/Users/Yasho Vardhan/Desktop/Capital Bike Share data/2014-Q2-cabi-trip-history-data.csv\")\n",
    "Q32014=pd.read_csv(\"C:/Users/Yasho Vardhan/Desktop/Capital Bike Share data/2014-Q3-cabi-trip-history-data.csv\")\n",
    "Q42014=pd.read_csv(\"C:/Users/Yasho Vardhan/Desktop/Capital Bike Share data/2014-Q4-cabi-trip-history-data.csv\")"
   ]
  },
  {
   "cell_type": "code",
   "execution_count": 9,
   "metadata": {
    "collapsed": true
   },
   "outputs": [],
   "source": [
    "for index, duration in enumerate(Q22012.Duration) :\n",
    "    Q22012.Duration[index]=int(duration.partition(\"h\")[0])*3600000+int(duration.partition('h')[-1].rpartition('m')[0])*60000+int(duration.partition('m')[-1].rpartition('s')[0])*1000;\n",
    "\n",
    "for index, duration in enumerate(Q32012.Duration) :\n",
    "    Q32012.Duration[index]=int(duration.partition(\"h\")[0])*3600000+int(duration.partition('h')[-1].rpartition('m')[0])*60000+int(duration.partition('m')[-1].rpartition('s')[0])*1000;\n",
    "\n",
    "for index, duration in enumerate(Q42012.Duration) :\n",
    "    Q42012.Duration[index]=int(duration.partition(\"h\")[0])*3600000+int(duration.partition('h')[-1].rpartition('m')[0])*60000+int(duration.partition('m')[-1].rpartition('s')[0])*1000;\n",
    "\n",
    "for index, duration in enumerate(Q12013.Duration) :\n",
    "    Q12013.Duration[index]=int(duration.partition(\"h\")[0])*3600000+int(duration.partition('h')[-1].rpartition('m')[0])*60000+int(duration.partition('m')[-1].rpartition('s')[0])*1000;\n",
    "\n",
    "for index, duration in enumerate(Q22013.Duration) :\n",
    "    Q22013.Duration[index]=int(duration.partition(\"h\")[0])*3600000+int(duration.partition('h')[-1].rpartition('m')[0])*60000+int(duration.partition('m')[-1].rpartition('s')[0])*1000;\n",
    "\n",
    "for index, duration in enumerate(Q32013.Duration) :\n",
    "    Q32013.Duration[index]=int(duration.partition(\"h\")[0])*3600000+int(duration.partition('h')[-1].rpartition('m')[0])*60000+int(duration.partition('m')[-1].rpartition('s')[0])*1000;\n",
    "\n",
    "for index, duration in enumerate(Q42013.Duration) :\n",
    "    Q42013.Duration[index]=int(duration.partition(\"h\")[0])*3600000+int(duration.partition('h')[-1].rpartition('m')[0])*60000+int(duration.partition('m')[-1].rpartition('s')[0])*1000;\n",
    "\n",
    "for index, duration in enumerate(Q12014.Duration) :\n",
    "    Q12014.Duration[index]=int(duration.partition(\"h\")[0])*3600000+int(duration.partition('h')[-1].rpartition('m')[0])*60000+int(duration.partition('m')[-1].rpartition('s')[0])*1000;\n",
    "\n",
    "for index, duration in enumerate(Q22014.Duration) :\n",
    "    Q22014.Duration[index]=int(duration.partition(\"h\")[0])*3600000+int(duration.partition('h')[-1].rpartition('m')[0])*60000+int(duration.partition('m')[-1].rpartition('s')[0])*1000;\n",
    "\n",
    "for index, duration in enumerate(Q32014.Duration) :\n",
    "    Q32014.Duration[index]=int(duration.partition(\"h\")[0])*3600000+int(duration.partition('h')[-1].rpartition('m')[0])*60000+int(duration.partition('m')[-1].rpartition('s')[0])*1000;\n",
    "\n",
    "for index, duration in enumerate(Q42014.Duration) :\n",
    "    Q42014.Duration[index]=int(duration.partition(\"h\")[0])*3600000+int(duration.partition('h')[-1].rpartition('m')[0])*60000+int(duration.partition('m')[-1].rpartition('s')[0])*1000;"
   ]
  },
  {
   "cell_type": "code",
   "execution_count": 10,
   "metadata": {
    "collapsed": true
   },
   "outputs": [],
   "source": [
    "Q22012.to_csv(\"C:/Users/Yasho Vardhan/Desktop/Capital Bike Share data/2012-Q2-cabi-trip-history-data-clean.csv\")\n",
    "Q32012.to_csv(\"C:/Users/Yasho Vardhan/Desktop/Capital Bike Share data/2012-Q3-cabi-trip-history-data-clean.csv\")\n",
    "Q42012.to_csv(\"C:/Users/Yasho Vardhan/Desktop/Capital Bike Share data/2012-Q4-cabi-trip-history-data-clean.csv\")\n",
    "Q12013.to_csv(\"C:/Users/Yasho Vardhan/Desktop/Capital Bike Share data/2013-Q1-cabi-trip-history-data-clean.csv\")\n",
    "Q22013.to_csv(\"C:/Users/Yasho Vardhan/Desktop/Capital Bike Share data/2013-Q2-cabi-trip-history-data-clean.csv\")\n",
    "Q32013.to_csv(\"C:/Users/Yasho Vardhan/Desktop/Capital Bike Share data/2013-Q3-cabi-trip-history-data-clean.csv\")\n",
    "Q42013.to_csv(\"C:/Users/Yasho Vardhan/Desktop/Capital Bike Share data/2013-Q4-cabi-trip-history-data-clean.csv\")\n",
    "Q12014.to_csv(\"C:/Users/Yasho Vardhan/Desktop/Capital Bike Share data/2014-Q1-cabi-trip-history-data-clean.csv\")\n",
    "Q22014.to_csv(\"C:/Users/Yasho Vardhan/Desktop/Capital Bike Share data/2014-Q2-cabi-trip-history-data-clean.csv\")\n",
    "Q32014.to_csv(\"C:/Users/Yasho Vardhan/Desktop/Capital Bike Share data/2014-Q3-cabi-trip-history-data-clean.csv\")\n",
    "Q42014.to_csv(\"C:/Users/Yasho Vardhan/Desktop/Capital Bike Share data/2014-Q4-cabi-trip-history-data-clean.csv\")"
   ]
  }
 ],
 "metadata": {
  "kernelspec": {
   "display_name": "Python 3",
   "language": "python",
   "name": "python3"
  },
  "language_info": {
   "codemirror_mode": {
    "name": "ipython",
    "version": 3
   },
   "file_extension": ".py",
   "mimetype": "text/x-python",
   "name": "python",
   "nbconvert_exporter": "python",
   "pygments_lexer": "ipython3",
   "version": "3.7.1"
  }
 },
 "nbformat": 4,
 "nbformat_minor": 2
}
